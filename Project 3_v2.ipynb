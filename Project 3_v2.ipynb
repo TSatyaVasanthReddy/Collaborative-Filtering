{
 "cells": [
  {
   "cell_type": "code",
   "execution_count": 41,
   "metadata": {
    "collapsed": true
   },
   "outputs": [],
   "source": [
    "import pandas as pd\n",
    "import matplotlib.pyplot as plt\n",
    "import numpy as np"
   ]
  },
  {
   "cell_type": "code",
   "execution_count": 42,
   "metadata": {},
   "outputs": [
    {
     "data": {
      "text/plain": [
       "9066"
      ]
     },
     "execution_count": 42,
     "metadata": {},
     "output_type": "execute_result"
    }
   ],
   "source": [
    "dataset = pd.read_csv('ratings.csv')\n",
    "dataset['movieId'].nunique()"
   ]
  },
  {
   "cell_type": "code",
   "execution_count": 43,
   "metadata": {},
   "outputs": [
    {
     "data": {
      "text/html": [
       "<div>\n",
       "<style>\n",
       "    .dataframe thead tr:only-child th {\n",
       "        text-align: right;\n",
       "    }\n",
       "\n",
       "    .dataframe thead th {\n",
       "        text-align: left;\n",
       "    }\n",
       "\n",
       "    .dataframe tbody tr th {\n",
       "        vertical-align: top;\n",
       "    }\n",
       "</style>\n",
       "<table border=\"1\" class=\"dataframe\">\n",
       "  <thead>\n",
       "    <tr style=\"text-align: right;\">\n",
       "      <th></th>\n",
       "      <th>userId</th>\n",
       "      <th>movieId</th>\n",
       "      <th>rating</th>\n",
       "      <th>timestamp</th>\n",
       "    </tr>\n",
       "  </thead>\n",
       "  <tbody>\n",
       "    <tr>\n",
       "      <th>0</th>\n",
       "      <td>1</td>\n",
       "      <td>31</td>\n",
       "      <td>2.5</td>\n",
       "      <td>1260759144</td>\n",
       "    </tr>\n",
       "    <tr>\n",
       "      <th>1</th>\n",
       "      <td>1</td>\n",
       "      <td>1029</td>\n",
       "      <td>3.0</td>\n",
       "      <td>1260759179</td>\n",
       "    </tr>\n",
       "    <tr>\n",
       "      <th>2</th>\n",
       "      <td>1</td>\n",
       "      <td>1061</td>\n",
       "      <td>3.0</td>\n",
       "      <td>1260759182</td>\n",
       "    </tr>\n",
       "    <tr>\n",
       "      <th>3</th>\n",
       "      <td>1</td>\n",
       "      <td>1129</td>\n",
       "      <td>2.0</td>\n",
       "      <td>1260759185</td>\n",
       "    </tr>\n",
       "  </tbody>\n",
       "</table>\n",
       "</div>"
      ],
      "text/plain": [
       "   userId  movieId  rating   timestamp\n",
       "0       1       31     2.5  1260759144\n",
       "1       1     1029     3.0  1260759179\n",
       "2       1     1061     3.0  1260759182\n",
       "3       1     1129     2.0  1260759185"
      ]
     },
     "execution_count": 43,
     "metadata": {},
     "output_type": "execute_result"
    }
   ],
   "source": [
    "dataset.head(4)"
   ]
  },
  {
   "cell_type": "code",
   "execution_count": 44,
   "metadata": {
    "collapsed": true
   },
   "outputs": [],
   "source": [
    "sparsity = dataset.shape[0]/(dataset['movieId'].nunique() * dataset['userId'].nunique())"
   ]
  },
  {
   "cell_type": "code",
   "execution_count": 45,
   "metadata": {},
   "outputs": [
    {
     "name": "stdout",
     "output_type": "stream",
     "text": [
      "0.016439141608663475\n"
     ]
    }
   ],
   "source": [
    "print(sparsity)"
   ]
  },
  {
   "cell_type": "code",
   "execution_count": 46,
   "metadata": {},
   "outputs": [
    {
     "data": {
      "image/png": "[encoded data removed]",
      "text/plain": [
       "<matplotlib.figure.Figure at 0x1a11dabd048>"
      ]
     },
     "metadata": {},
     "output_type": "display_data"
    }
   ],
   "source": [
    "plt.hist(dataset['rating'],bins=np.arange(0, 5 + 0.5, 0.5))\n",
    "plt.show()"
   ]
  },
  {
   "cell_type": "code",
   "execution_count": 47,
   "metadata": {
    "collapsed": true
   },
   "outputs": [],
   "source": [
    "from collections import Counter\n",
    "movie_ids = dataset['movieId']\n",
    "#Counter(movie_ids)"
   ]
  },
  {
   "cell_type": "code",
   "execution_count": 48,
   "metadata": {
    "collapsed": true
   },
   "outputs": [],
   "source": [
    "movie_ratings_dict = dict(Counter(movie_ids))"
   ]
  },
  {
   "cell_type": "code",
   "execution_count": 49,
   "metadata": {},
   "outputs": [
    {
     "data": {
      "text/plain": [
       "[<matplotlib.lines.Line2D at 0x1a122eb54e0>]"
      ]
     },
     "execution_count": 49,
     "metadata": {},
     "output_type": "execute_result"
    }
   ],
   "source": [
    "plt.plot(range(0,len(movie_ratings_dict.keys())), sorted(movie_ratings_dict.values(),reverse=True))"
   ]
  },
  {
   "cell_type": "code",
   "execution_count": 50,
   "metadata": {
    "collapsed": true
   },
   "outputs": [],
   "source": [
    "user_ids = dataset['userId']"
   ]
  },
  {
   "cell_type": "code",
   "execution_count": 51,
   "metadata": {
    "collapsed": true
   },
   "outputs": [],
   "source": [
    "user_ratings_dict = dict(Counter(user_ids))"
   ]
  },
  {
   "cell_type": "code",
   "execution_count": 52,
   "metadata": {},
   "outputs": [
    {
     "data": {
      "text/plain": [
       "[<matplotlib.lines.Line2D at 0x1a11d8d30f0>]"
      ]
     },
     "execution_count": 52,
     "metadata": {},
     "output_type": "execute_result"
    }
   ],
   "source": [
    "plt.plot(range(0,len(user_ratings_dict.keys())), sorted(user_ratings_dict.values(),reverse=True))"
   ]
  },
  {
   "cell_type": "code",
   "execution_count": 53,
   "metadata": {},
   "outputs": [
    {
     "data": {
      "text/plain": [
       "55141"
      ]
     },
     "execution_count": 53,
     "metadata": {},
     "output_type": "execute_result"
    }
   ],
   "source": [
    "sum(sorted(user_ratings_dict.values(),reverse=True)[:100])"
   ]
  },
  {
   "cell_type": "code",
   "execution_count": 54,
   "metadata": {
    "collapsed": true
   },
   "outputs": [],
   "source": [
    "id_var = (dataset[['movieId','rating']].groupby('movieId',as_index=False)).var().fillna(0)\n"
   ]
  },
  {
   "cell_type": "code",
   "execution_count": 55,
   "metadata": {
    "collapsed": true
   },
   "outputs": [],
   "source": [
    "id_var_dict = dict(zip(list(id_var['movieId']), id_var['rating']))\n"
   ]
  },
  {
   "cell_type": "code",
   "execution_count": 56,
   "metadata": {
    "collapsed": true
   },
   "outputs": [],
   "source": [
    "var_list = list(dataset[['movieId','rating']].groupby('movieId').var()['rating'])"
   ]
  },
  {
   "cell_type": "code",
   "execution_count": 58,
   "metadata": {},
   "outputs": [
    {
     "data": {
      "image/png": "[encoded data removed]",
      "text/plain": [
       "<matplotlib.figure.Figure at 0x1a120420a58>"
      ]
     },
     "metadata": {},
     "output_type": "display_data"
    }
   ],
   "source": [
    "plt.hist(np.nan_to_num(var_list),bins=np.arange(min(var_list), max(var_list), 0.5))\n",
    "plt.show()"
   ]
  },
  {
   "cell_type": "code",
   "execution_count": 59,
   "metadata": {
    "collapsed": true
   },
   "outputs": [],
   "source": [
    "def get_popular(movie_ratings_dict, testset):\n",
    "    movieids = [x[0] for x in movie_ratings_dict.items() if x[1]>2]\n",
    "    return [x for x in testset if x[1] in movie_ids]\n",
    "def get_unpopular(movie_ratings_dict, testset):\n",
    "    movieids = [x[0] for x in movie_ratings_dict.items() if x[1]<=2]\n",
    "    return [x for x in testset if x[1] in movie_ids]\n",
    "\n",
    "def get_highvar(movie_ratings_dict, var_dict, testset):\n",
    "    movieids = [x[0] for x in movie_ratings_dict.items() if x[1]>=5]\n",
    "    movieids = [x for x in high_variance_movieids if var_dict[x]>=2 ]\n",
    "    return [x for x in testset if x[1] in movie_ids]\n",
    "    "
   ]
  },
  {
   "cell_type": "markdown",
   "metadata": {},
   "source": [
    "### Question 10 - 14"
   ]
  },
  {
   "cell_type": "markdown",
   "metadata": {},
   "source": [
    "#### Takes 15-20 min"
   ]
  },
  {
   "cell_type": "code",
   "execution_count": 60,
   "metadata": {
    "collapsed": true
   },
   "outputs": [],
   "source": [
    "from surprise import SVD"
   ]
  },
  {
   "cell_type": "code",
   "execution_count": 61,
   "metadata": {
    "collapsed": true
   },
   "outputs": [],
   "source": [
    "from surprise.prediction_algorithms.knns import KNNWithMeans\n",
    "from surprise.model_selection.validation import cross_validate\n",
    "from surprise.model_selection import train_test_split\n",
    "from surprise.model_selection import KFold\n",
    "from surprise import Dataset\n",
    "from surprise import accuracy\n",
    "from surprise import Reader\n"
   ]
  },
  {
   "cell_type": "code",
   "execution_count": 62,
   "metadata": {
    "collapsed": true
   },
   "outputs": [],
   "source": [
    "def do_kFold(data_, range_,trimm,movie_ratings_dict,splits=10, id_var_dict=None):\n",
    "    sim_options = {'name': 'pearson_baseline'}\n",
    "    kf = KFold(n_splits=splits)\n",
    "    reader = Reader(rating_scale=(1, 5))\n",
    "    mae_d={}\n",
    "    rmse_d={}\n",
    "    for neigh in range_:\n",
    "        print('Neighbors ',neigh)\n",
    "        knn_model = KNNWithMeans( k=neigh, sim_options= sim_options)\n",
    "        rmse_list=[]\n",
    "        mae_list =[]\n",
    "        for trainset, testset in kf.split(data_):\n",
    "            #print(testset)\n",
    "            if(trimm=='p'):\n",
    "                testset = get_popular(movie_ratings_dict,testset)\n",
    "            elif(trimm=='up'):\n",
    "                testset = get_unpopular(movie_ratings_dict,testset)\n",
    "            elif(trimm=='hv'):\n",
    "                testset = get_highvar(movie_ratings_dict,testset)\n",
    "            knn_model.fit(trainset)\n",
    "            predictions = knn_model.test(testset,verbose=False)\n",
    "            rmse_list.append(accuracy.rmse(predictions,verbose=False))\n",
    "            mae_list.append(accuracy.mae(predictions,verbose=False))\n",
    "        rmse_d[neigh]=sum(rmse_list)/len(rmse_list)\n",
    "        mae_d[neigh]=sum(mae_list)/len(mae_list)\n",
    "        print('Mean rmse',sum(rmse_list)/len(rmse_list))\n",
    "        print('Mean mae',sum(mae_list)/len(mae_list))\n",
    "    return rmse_d, mae_d\n",
    "\n"
   ]
  },
  {
   "cell_type": "code",
   "execution_count": 63,
   "metadata": {
    "collapsed": true
   },
   "outputs": [],
   "source": [
    "def rmse_mae_plot(rmse_d,mae_d):\n",
    "    plt.plot(rmse_d.keys(),rmse_d.values())\n",
    "    plt.show()\n",
    "    plt.plot(mae_d.keys(),mae_d.values())\n",
    "    plt.show()"
   ]
  },
  {
   "cell_type": "code",
   "execution_count": 167,
   "metadata": {},
   "outputs": [
    {
     "name": "stdout",
     "output_type": "stream",
     "text": [
      "Neighbors  2\n",
      "Estimating biases using als...\n",
      "Computing the pearson_baseline similarity matrix...\n",
      "Done computing similarity matrix.\n",
      "Estimating biases using als...\n",
      "Computing the pearson_baseline similarity matrix...\n",
      "Done computing similarity matrix.\n",
      "Estimating biases using als...\n",
      "Computing the pearson_baseline similarity matrix...\n",
      "Done computing similarity matrix.\n",
      "Estimating biases using als...\n",
      "Computing the pearson_baseline similarity matrix...\n",
      "Done computing similarity matrix.\n",
      "Estimating biases using als...\n",
      "Computing the pearson_baseline similarity matrix...\n",
      "Done computing similarity matrix.\n",
      "Estimating biases using als...\n",
      "Computing the pearson_baseline similarity matrix...\n",
      "Done computing similarity matrix.\n",
      "Estimating biases using als...\n",
      "Computing the pearson_baseline similarity matrix...\n",
      "Done computing similarity matrix.\n",
      "Estimating biases using als...\n",
      "Computing the pearson_baseline similarity matrix...\n",
      "Done computing similarity matrix.\n",
      "Estimating biases using als...\n",
      "Computing the pearson_baseline similarity matrix...\n",
      "Done computing similarity matrix.\n",
      "Estimating biases using als...\n",
      "Computing the pearson_baseline similarity matrix...\n",
      "Done computing similarity matrix.\n",
      "Mean rmse 1.00908338254\n",
      "Mean mae 0.771026133523\n",
      "Neighbors  22\n",
      "Estimating biases using als...\n",
      "Computing the pearson_baseline similarity matrix...\n",
      "Done computing similarity matrix.\n",
      "Estimating biases using als...\n",
      "Computing the pearson_baseline similarity matrix...\n",
      "Done computing similarity matrix.\n",
      "Estimating biases using als...\n",
      "Computing the pearson_baseline similarity matrix...\n",
      "Done computing similarity matrix.\n",
      "Estimating biases using als...\n",
      "Computing the pearson_baseline similarity matrix...\n",
      "Done computing similarity matrix.\n",
      "Estimating biases using als...\n",
      "Computing the pearson_baseline similarity matrix...\n",
      "Done computing similarity matrix.\n",
      "Estimating biases using als...\n",
      "Computing the pearson_baseline similarity matrix...\n",
      "Done computing similarity matrix.\n",
      "Estimating biases using als...\n",
      "Computing the pearson_baseline similarity matrix...\n",
      "Done computing similarity matrix.\n",
      "Estimating biases using als...\n",
      "Computing the pearson_baseline similarity matrix...\n",
      "Done computing similarity matrix.\n",
      "Estimating biases using als...\n",
      "Computing the pearson_baseline similarity matrix...\n",
      "Done computing similarity matrix.\n",
      "Estimating biases using als...\n",
      "Computing the pearson_baseline similarity matrix...\n",
      "Done computing similarity matrix.\n",
      "Mean rmse 0.916834362046\n",
      "Mean mae 0.695418885931\n",
      "Neighbors  42\n",
      "Estimating biases using als...\n",
      "Computing the pearson_baseline similarity matrix...\n",
      "Done computing similarity matrix.\n",
      "Estimating biases using als...\n",
      "Computing the pearson_baseline similarity matrix...\n",
      "Done computing similarity matrix.\n",
      "Estimating biases using als...\n",
      "Computing the pearson_baseline similarity matrix...\n",
      "Done computing similarity matrix.\n",
      "Estimating biases using als...\n",
      "Computing the pearson_baseline similarity matrix...\n",
      "Done computing similarity matrix.\n",
      "Estimating biases using als...\n",
      "Computing the pearson_baseline similarity matrix...\n",
      "Done computing similarity matrix.\n",
      "Estimating biases using als...\n",
      "Computing the pearson_baseline similarity matrix...\n",
      "Done computing similarity matrix.\n",
      "Estimating biases using als...\n",
      "Computing the pearson_baseline similarity matrix...\n",
      "Done computing similarity matrix.\n",
      "Estimating biases using als...\n",
      "Computing the pearson_baseline similarity matrix...\n",
      "Done computing similarity matrix.\n",
      "Estimating biases using als...\n",
      "Computing the pearson_baseline similarity matrix...\n",
      "Done computing similarity matrix.\n",
      "Estimating biases using als...\n",
      "Computing the pearson_baseline similarity matrix...\n",
      "Done computing similarity matrix.\n",
      "Mean rmse 0.914258604878\n",
      "Mean mae 0.693822600151\n",
      "Neighbors  62\n",
      "Estimating biases using als...\n",
      "Computing the pearson_baseline similarity matrix...\n",
      "Done computing similarity matrix.\n",
      "Estimating biases using als...\n",
      "Computing the pearson_baseline similarity matrix...\n",
      "Done computing similarity matrix.\n",
      "Estimating biases using als...\n",
      "Computing the pearson_baseline similarity matrix...\n",
      "Done computing similarity matrix.\n",
      "Estimating biases using als...\n",
      "Computing the pearson_baseline similarity matrix...\n",
      "Done computing similarity matrix.\n",
      "Estimating biases using als...\n",
      "Computing the pearson_baseline similarity matrix...\n",
      "Done computing similarity matrix.\n",
      "Estimating biases using als...\n",
      "Computing the pearson_baseline similarity matrix...\n",
      "Done computing similarity matrix.\n",
      "Estimating biases using als...\n",
      "Computing the pearson_baseline similarity matrix...\n",
      "Done computing similarity matrix.\n",
      "Estimating biases using als...\n",
      "Computing the pearson_baseline similarity matrix...\n",
      "Done computing similarity matrix.\n",
      "Estimating biases using als...\n",
      "Computing the pearson_baseline similarity matrix...\n",
      "Done computing similarity matrix.\n",
      "Estimating biases using als...\n",
      "Computing the pearson_baseline similarity matrix...\n",
      "Done computing similarity matrix.\n",
      "Mean rmse 0.915004361134\n",
      "Mean mae 0.694637178415\n",
      "Neighbors  82\n",
      "Estimating biases using als...\n",
      "Computing the pearson_baseline similarity matrix...\n",
      "Done computing similarity matrix.\n",
      "Estimating biases using als...\n",
      "Computing the pearson_baseline similarity matrix...\n",
      "Done computing similarity matrix.\n",
      "Estimating biases using als...\n",
      "Computing the pearson_baseline similarity matrix...\n",
      "Done computing similarity matrix.\n",
      "Estimating biases using als...\n",
      "Computing the pearson_baseline similarity matrix...\n",
      "Done computing similarity matrix.\n",
      "Estimating biases using als...\n",
      "Computing the pearson_baseline similarity matrix...\n",
      "Done computing similarity matrix.\n",
      "Estimating biases using als...\n",
      "Computing the pearson_baseline similarity matrix...\n",
      "Done computing similarity matrix.\n",
      "Estimating biases using als...\n",
      "Computing the pearson_baseline similarity matrix...\n",
      "Done computing similarity matrix.\n",
      "Estimating biases using als...\n",
      "Computing the pearson_baseline similarity matrix...\n",
      "Done computing similarity matrix.\n",
      "Estimating biases using als...\n",
      "Computing the pearson_baseline similarity matrix...\n",
      "Done computing similarity matrix.\n",
      "Estimating biases using als...\n",
      "Computing the pearson_baseline similarity matrix...\n",
      "Done computing similarity matrix.\n",
      "Mean rmse 0.914375374795\n",
      "Mean mae 0.694027874977\n"
     ]
    }
   ],
   "source": [
    "total_data = Dataset.load_from_df(dataset[['userId','movieId','rating']], reader)\n",
    "r_d,m_d = do_kFold(total_data, range(2,101,20),'notrim',movie_ratings_dict)#TODO use 2 instead of 8. 8 is used to compute faster"
   ]
  },
  {
   "cell_type": "code",
   "execution_count": null,
   "metadata": {
    "collapsed": true
   },
   "outputs": [],
   "source": [
    "rmse_mae_plot(r_d,m_d)"
   ]
  },
  {
   "cell_type": "markdown",
   "metadata": {},
   "source": [
    "### Question 11"
   ]
  },
  {
   "cell_type": "markdown",
   "metadata": {},
   "source": [
    " k value =20"
   ]
  },
  {
   "cell_type": "markdown",
   "metadata": {},
   "source": [
    "\n",
    " RMSE = 0.9146735"
   ]
  },
  {
   "cell_type": "markdown",
   "metadata": {},
   "source": [
    "### Question 12,13,14"
   ]
  },
  {
   "cell_type": "code",
   "execution_count": null,
   "metadata": {
    "collapsed": true
   },
   "outputs": [],
   "source": [
    "rp_d, mp_d = do_kFold(total_data, range(2,101,20),'p',movie_ratings_dict)#TODO use 2 instead of 8. 8 is used to compute faster\n",
    "rup_d,mup_d =do_kFold(total_data, range(2,101,20),'up',movie_ratings_dict)#TODO use 2 instead of 8. 8 is used to compute faster\n",
    "rhv_d,mhv_d =do_kFold(total_data, range(2,101,20),'hv',movie_ratings_dict, id_var_dict)#TODO use 2 instead of 8. 8 is used to compute faster"
   ]
  },
  {
   "cell_type": "markdown",
   "metadata": {},
   "source": [
    "### TODO : Run and plot"
   ]
  },
  {
   "cell_type": "markdown",
   "metadata": {},
   "source": [
    "### NMF Filtering"
   ]
  },
  {
   "cell_type": "markdown",
   "metadata": {},
   "source": [
    "#### Questions 17-21"
   ]
  },
  {
   "cell_type": "code",
   "execution_count": null,
   "metadata": {
    "collapsed": true
   },
   "outputs": [],
   "source": [
    "from surprise.prediction_algorithms.matrix_factorization import NMF"
   ]
  },
  {
   "cell_type": "code",
   "execution_count": 64,
   "metadata": {
    "collapsed": true
   },
   "outputs": [],
   "source": [
    "def NMF_filter(data_, range_,trimm,movie_ratings_dict,splits=10, id_var_dict=None):\n",
    "    kf = KFold(n_splits=splits)\n",
    "    reader = Reader(rating_scale=(1, 5))\n",
    "    mae_d={}\n",
    "    rmse_d={}\n",
    "    for latent_factors in range_:\n",
    "        print('Number of Latent Factors : ',latent_factors)\n",
    "        nmf_model = NMF(n_factors = latent_factors)\n",
    "        rmse_list=[]\n",
    "        mae_list =[]\n",
    "        for trainset, testset in kf.split(data_):\n",
    "            #print(testset)\n",
    "            if(trimm=='p'):\n",
    "                testset = get_popular(movie_ratings_dict,testset)\n",
    "            elif(trimm=='up'):\n",
    "                testset = get_unpopular(movie_ratings_dict,testset)\n",
    "            elif(trimm=='hv'):\n",
    "                testset = get_highvar(movie_ratings_dict,testset)\n",
    "            nmf_model.fit(trainset)\n",
    "            predictions = nmf_model.test(testset,verbose=False)\n",
    "            rmse_list.append(accuracy.rmse(predictions,verbose=False))\n",
    "            mae_list.append(accuracy.mae(predictions,verbose=False))\n",
    "        rmse_d[latent_factors]=sum(rmse_list)/len(rmse_list)\n",
    "        mae_d[latent_factors]=sum(mae_list)/len(mae_list)\n",
    "        print('Mean rmse',sum(rmse_list)/len(rmse_list))\n",
    "        print('Mean mae',sum(mae_list)/len(mae_list))\n",
    "    return rmse_d, mae_d\n"
   ]
  },
  {
   "cell_type": "code",
   "execution_count": 65,
   "metadata": {},
   "outputs": [
    {
     "name": "stdout",
     "output_type": "stream",
     "text": [
      "Number of Latent Factors :  2\n",
      "Mean rmse 1.1745299532\n",
      "Mean mae 0.99413601042\n",
      "Number of Latent Factors :  10\n",
      "Mean rmse 0.955925025689\n",
      "Mean mae 0.748620176982\n",
      "Number of Latent Factors :  18\n",
      "Mean rmse 0.938859732656\n",
      "Mean mae 0.716481420556\n",
      "Number of Latent Factors :  26\n",
      "Mean rmse 0.948080863429\n",
      "Mean mae 0.717001372444\n",
      "Number of Latent Factors :  34\n",
      "Mean rmse 0.961765965054\n",
      "Mean mae 0.723764278366\n",
      "Number of Latent Factors :  42\n",
      "Mean rmse 0.979348260616\n",
      "Mean mae 0.735608336811\n",
      "Number of Latent Factors :  50\n",
      "Mean rmse 0.994204404142\n",
      "Mean mae 0.746898391771\n"
     ]
    }
   ],
   "source": [
    "total_data = Dataset.load_from_df(dataset[['userId','movieId','rating']], reader)\n",
    "nmf_rmse , nmf_mae = NMF_filter(total_data, range(2,51,8),'notrim',movie_ratings_dict) #replace 8 with 2"
   ]
  },
  {
   "cell_type": "markdown",
   "metadata": {},
   "source": [
    "#### Best k = 18"
   ]
  },
  {
   "cell_type": "code",
   "execution_count": null,
   "metadata": {
    "collapsed": true
   },
   "outputs": [],
   "source": [
    "#nmf_rmse_p , nmf_mae_p = NMF_filter(total_data, range(2,51,8),'p',movie_ratings_dict) #replace 8 with 2\n",
    "#nmf_rmse_up , nmf_mae_up = NMF_filter(total_data, range(2,51,8),'up',movie_ratings_dict) #replace 8 with 2\n",
    "#nmf_rmse_hv , nmf_mae_hv = NMF_filter(total_data, range(2,51,8),'hv',movie_ratings_dict, id_var_dict) #replace 8 with 2"
   ]
  },
  {
   "cell_type": "code",
   "execution_count": null,
   "metadata": {
    "collapsed": true
   },
   "outputs": [],
   "source": [
    "#rmse_mae_plot(nmf_rmse,nmf_mae)\n",
    "#rmse_mae_plot(nmf_rmse_p,nmf_mae_p)\n",
    "#rmse_mae_plot(nmf_rmse_up,nmf_mae_up)\n",
    "#rmse_mae_plot(nmf_rmse_hv,nmf_mae_hv)"
   ]
  },
  {
   "cell_type": "code",
   "execution_count": 191,
   "metadata": {
    "collapsed": true
   },
   "outputs": [],
   "source": [
    "def plot_curve(fpr, tpr, roc_auc, threshold_value):\n",
    "    plt.figure()\n",
    "    lw = 2\n",
    "    plt.plot(fpr, tpr, color='darkorange',lw=lw, label='ROC curve (area = %0.2f)' % roc_auc)\n",
    "    plt.xlabel('False Positive Rate')\n",
    "    plt.ylabel('True Positive Rate')\n",
    "    plt.title('ROC Curve for threshold value : ' + str(threshold_value))\n",
    "    plt.legend(loc=\"lower right\")\n",
    "    plt.show()"
   ]
  },
  {
   "cell_type": "code",
   "execution_count": 192,
   "metadata": {
    "collapsed": true
   },
   "outputs": [],
   "source": [
    "def plot_roc_curves(testset,preds,thresholds_arr):\n",
    "    for threshold_value in thresholds_arr:\n",
    "        y_test = []\n",
    "        y_preds = []\n",
    "        for x in testset:\n",
    "            if x[2] < threshold_value:\n",
    "                y_test.append(0)\n",
    "            else:\n",
    "                y_test.append(1)\n",
    "        for i in range(len(preds)):\n",
    "            y_preds.append(preds[i][3])\n",
    "        fpr, tpr, thresholds = roc_curve(y_test, y_preds)\n",
    "        roc_auc = auc(fpr, tpr)\n",
    "        plot_curve(fpr,tpr, roc_auc,threshold_value)"
   ]
  },
  {
   "cell_type": "code",
   "execution_count": 193,
   "metadata": {},
   "outputs": [],
   "source": [
    "from surprise.model_selection import train_test_split\n",
    "from sklearn.metrics import roc_curve, auc\n",
    "data_roc = Dataset.load_from_df(dataset[['userId','movieId','rating']], reader)\n",
    "train_set, test_set = train_test_split(data_roc, test_size = 0.1, random_state = 0)\n",
    "roc_nmf_model = NMF(n_factors = 18)\n",
    "roc_nmf_model.fit(train_set)\n",
    "preds = roc_nmf_model.test(test_set)"
   ]
  },
  {
   "cell_type": "code",
   "execution_count": 195,
   "metadata": {},
   "outputs": [
    {
     "data": {
      "image/png": "[encoded data removed]",
      "text/plain": [
       "<matplotlib.figure.Figure at 0x1a12b3ef128>"
      ]
     },
     "metadata": {},
     "output_type": "display_data"
    },
    {
     "data": {
      "image/png": "[encoded data removed]",
      "text/plain": [
       "<matplotlib.figure.Figure at 0x1a120194c50>"
      ]
     },
     "metadata": {},
     "output_type": "display_data"
    },
    {
     "data": {
      "image/png": "[encoded data removed]",
      "text/plain": [
       "<matplotlib.figure.Figure at 0x1a124d1ef98>"
      ]
     },
     "metadata": {},
     "output_type": "display_data"
    },
    {
     "data": {
      "image/png": "[encoded data removed]",
      "text/plain": [
       "<matplotlib.figure.Figure at 0x1a12b401a90>"
      ]
     },
     "metadata": {},
     "output_type": "display_data"
    }
   ],
   "source": [
    "thresholds = [2.5,3,3.5,4]\n",
    "plot_roc_curves(test_set,preds,thresholds)"
   ]
  },
  {
   "cell_type": "code",
   "execution_count": 179,
   "metadata": {
    "collapsed": true
   },
   "outputs": [],
   "source": [
    "y_test = []\n",
    "y_preds = []\n",
    "for x in testset:\n",
    "    if x[2] < 2.5:\n",
    "        y_test.append(0)\n",
    "    else:\n",
    "        y_test.append(1)\n",
    "for i in range(len(preds)-1):\n",
    "        y_preds.append(preds[i][3])"
   ]
  },
  {
   "cell_type": "code",
   "execution_count": 180,
   "metadata": {
    "collapsed": true
   },
   "outputs": [],
   "source": [
    "fpr, tpr, thresholds = roc_curve(y_test, y_preds)"
   ]
  },
  {
   "cell_type": "code",
   "execution_count": 167,
   "metadata": {},
   "outputs": [
    {
     "data": {
      "image/png": "[encoded data removed]",
      "text/plain": [
       "<matplotlib.figure.Figure at 0x1a129e79160>"
      ]
     },
     "metadata": {},
     "output_type": "display_data"
    }
   ],
   "source": []
  },
  {
   "cell_type": "markdown",
   "metadata": {},
   "source": [
    "### MF (SVD) Filtering\n",
    "#### Questions 24-28"
   ]
  },
  {
   "cell_type": "code",
   "execution_count": 69,
   "metadata": {
    "collapsed": true
   },
   "outputs": [],
   "source": [
    "from surprise.prediction_algorithms.matrix_factorization import SVD"
   ]
  },
  {
   "cell_type": "code",
   "execution_count": 70,
   "metadata": {
    "collapsed": true
   },
   "outputs": [],
   "source": [
    "def SVD_filter(data_, range_,trimm,movie_ratings_dict,splits=10, id_var_dict=None):\n",
    "    kf = KFold(n_splits=splits)\n",
    "    reader = Reader(rating_scale=(1, 5))\n",
    "    mae_d={}\n",
    "    rmse_d={}\n",
    "    for latent_factors in range_:\n",
    "        print('Number of Latent Factors : ',latent_factors)\n",
    "        svd_model = SVD(n_factors = latent_factors)\n",
    "        rmse_list=[]\n",
    "        mae_list =[]\n",
    "        for trainset, testset in kf.split(data_):\n",
    "            #print(testset)\n",
    "            if(trimm=='p'):\n",
    "                testset = get_popular(movie_ratings_dict,testset)\n",
    "            elif(trimm=='up'):\n",
    "                testset = get_unpopular(movie_ratings_dict,testset)\n",
    "            elif(trimm=='hv'):\n",
    "                testset = get_highvar(movie_ratings_dict,testset)\n",
    "            svd_model.fit(trainset)\n",
    "            predictions = svd_model.test(testset,verbose=False)\n",
    "            rmse_list.append(accuracy.rmse(predictions,verbose=False))\n",
    "            mae_list.append(accuracy.mae(predictions,verbose=False))\n",
    "        rmse_d[latent_factors]=sum(rmse_list)/len(rmse_list)\n",
    "        mae_d[latent_factors]=sum(mae_list)/len(mae_list)\n",
    "        print('Mean rmse',sum(rmse_list)/len(rmse_list))\n",
    "        print('Mean mae',sum(mae_list)/len(mae_list))\n",
    "    return rmse_d, mae_d\n"
   ]
  },
  {
   "cell_type": "code",
   "execution_count": 71,
   "metadata": {},
   "outputs": [
    {
     "name": "stdout",
     "output_type": "stream",
     "text": [
      "Number of Latent Factors :  2\n",
      "Mean rmse 0.887486178063\n",
      "Mean mae 0.683750101431\n",
      "Number of Latent Factors :  4\n",
      "Mean rmse 0.887180392161\n",
      "Mean mae 0.683042022178\n",
      "Number of Latent Factors :  6\n",
      "Mean rmse 0.886904308602\n",
      "Mean mae 0.683064118982\n",
      "Number of Latent Factors :  8\n",
      "Mean rmse 0.887196916675\n",
      "Mean mae 0.683352100776\n",
      "Number of Latent Factors :  10\n",
      "Mean rmse 0.88743461396\n",
      "Mean mae 0.682773115803\n",
      "Number of Latent Factors :  12\n",
      "Mean rmse 0.887965371781\n",
      "Mean mae 0.683650840174\n",
      "Number of Latent Factors :  14\n",
      "Mean rmse 0.88790671912\n",
      "Mean mae 0.683665802025\n",
      "Number of Latent Factors :  16\n",
      "Mean rmse 0.887199495793\n",
      "Mean mae 0.682840466164\n",
      "Number of Latent Factors :  18\n",
      "Mean rmse 0.887499458704\n",
      "Mean mae 0.683125655705\n",
      "Number of Latent Factors :  20\n",
      "Mean rmse 0.888575888827\n",
      "Mean mae 0.68444951401\n",
      "Number of Latent Factors :  22\n",
      "Mean rmse 0.88899511917\n",
      "Mean mae 0.684687968034\n",
      "Number of Latent Factors :  24\n",
      "Mean rmse 0.887894106718\n",
      "Mean mae 0.683425366772\n",
      "Number of Latent Factors :  26\n",
      "Mean rmse 0.887840416807\n",
      "Mean mae 0.683019576919\n",
      "Number of Latent Factors :  28\n",
      "Mean rmse 0.888167885081\n",
      "Mean mae 0.683647983518\n",
      "Number of Latent Factors :  30\n",
      "Mean rmse 0.888566842037\n",
      "Mean mae 0.683348621758\n",
      "Number of Latent Factors :  32\n",
      "Mean rmse 0.889134351729\n",
      "Mean mae 0.683909656348\n",
      "Number of Latent Factors :  34\n",
      "Mean rmse 0.888287971878\n",
      "Mean mae 0.684536170685\n",
      "Number of Latent Factors :  36\n",
      "Mean rmse 0.88905619752\n",
      "Mean mae 0.683791597243\n",
      "Number of Latent Factors :  38\n",
      "Mean rmse 0.888345998204\n",
      "Mean mae 0.683818146527\n",
      "Number of Latent Factors :  40\n",
      "Mean rmse 0.889610491623\n",
      "Mean mae 0.683784606399\n",
      "Number of Latent Factors :  42\n",
      "Mean rmse 0.887982108073\n",
      "Mean mae 0.683249295242\n",
      "Number of Latent Factors :  44\n",
      "Mean rmse 0.88986083329\n",
      "Mean mae 0.684351430251\n",
      "Number of Latent Factors :  46\n",
      "Mean rmse 0.889204247572\n",
      "Mean mae 0.684441775822\n",
      "Number of Latent Factors :  48\n",
      "Mean rmse 0.888481922259\n",
      "Mean mae 0.683101479713\n",
      "Number of Latent Factors :  50\n",
      "Mean rmse 0.889217813352\n",
      "Mean mae 0.684582219167\n"
     ]
    }
   ],
   "source": [
    "total_data = Dataset.load_from_df(dataset[['userId','movieId','rating']], reader)\n",
    "svd_rmse , svd_mae = SVD_filter(total_data, range(2,51,2),'notrim',movie_ratings_dict)"
   ]
  },
  {
   "cell_type": "code",
   "execution_count": 79,
   "metadata": {},
   "outputs": [
    {
     "data": {
      "image/png": "[encoded data removed]",
      "text/plain": [
       "<matplotlib.figure.Figure at 0x1a1211e0128>"
      ]
     },
     "metadata": {},
     "output_type": "display_data"
    },
    {
     "data": {
      "image/png": "[encoded data removed]",
      "text/plain": [
       "<matplotlib.figure.Figure at 0x1a11d86ff28>"
      ]
     },
     "metadata": {},
     "output_type": "display_data"
    }
   ],
   "source": [
    "rmse_x = list(svd_rmse.keys())\n",
    "rmse_y = list(svd_rmse.values())\n",
    "plt.plot(rmse_x,rmse_y)\n",
    "plt.show()\n",
    "mae_x = list(svd_mae.keys())\n",
    "mae_y = list(svd_mae.values())\n",
    "plt.plot(mae_x,mae_y)\n",
    "plt.show()"
   ]
  },
  {
   "cell_type": "code",
   "execution_count": null,
   "metadata": {
    "collapsed": true
   },
   "outputs": [],
   "source": [
    "#svd_rmse_p , svd_mae_p = SVD_filter(total_data, range(2,51,8),'p',movie_ratings_dict) #replace 8 with 2\n",
    "#svd_rmse_up , svd_mae_up = SVD_filter(total_data, range(2,51,8),'up',movie_ratings_dict) #replace 8 with 2\n",
    "#svd_rmse_hv , svd_mae_hv = SVD_filter(total_data, range(2,51,8),'hv',movie_ratings_dict, id_var_dict) #replace 8 with 2"
   ]
  },
  {
   "cell_type": "code",
   "execution_count": null,
   "metadata": {
    "collapsed": true
   },
   "outputs": [],
   "source": []
  }
 ],
 "metadata": {
  "kernelspec": {
   "display_name": "Python 3",
   "language": "python",
   "name": "python3"
  },
  "language_info": {
   "codemirror_mode": {
    "name": "ipython",
    "version": 3
   },
   "file_extension": ".py",
   "mimetype": "text/x-python",
   "name": "python",
   "nbconvert_exporter": "python",
   "pygments_lexer": "ipython3",
   "version": "3.6.2"
  }
 },
 "nbformat": 4,
 "nbformat_minor": 2
}
